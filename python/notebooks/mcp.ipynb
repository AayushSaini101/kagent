{
 "cells": [
  {
   "cell_type": "code",
   "execution_count": null,
   "metadata": {},
   "outputs": [
    {
     "name": "stdout",
     "output_type": "stream",
     "text": [
      "---------- user ----------\n",
      "List all pods in the default namespace\n",
      "---------- k8s_agent ----------\n",
      "[FunctionCall(id='call_HJsLrO8AcrBlu9gZpDwoOW9d', arguments='{}', name='list_pods')]\n",
      "---------- k8s_agent ----------\n",
      "[FunctionExecutionResult(content='[TextContent(type=\\'text\\', text=\\'{\\\\n  \"pods\": [\\\\n    {\\\\n      \"name\": \"details-v1-54ffdd5947-686pc\",\\\\n      \"namespace\": \"default\",\\\\n      \"status\": \"Running\",\\\\n      \"createdAt\": \"2025-02-06T16:02:20.000Z\"\\\\n    },\\\\n    {\\\\n      \"name\": \"productpage-v1-d49bb79b4-j5s87\",\\\\n      \"namespace\": \"default\",\\\\n      \"status\": \"Running\",\\\\n      \"createdAt\": \"2025-02-06T16:02:21.000Z\"\\\\n    },\\\\n    {\\\\n      \"name\": \"ratings-v1-856f65bcff-w99lb\",\\\\n      \"namespace\": \"default\",\\\\n      \"status\": \"Running\",\\\\n      \"createdAt\": \"2025-02-06T16:02:20.000Z\"\\\\n    },\\\\n    {\\\\n      \"name\": \"reviews-v1-848b8749df-67ftm\",\\\\n      \"namespace\": \"default\",\\\\n      \"status\": \"Running\",\\\\n      \"createdAt\": \"2025-02-06T16:02:20.000Z\"\\\\n    },\\\\n    {\\\\n      \"name\": \"reviews-v2-5fdf9886c7-5tscl\",\\\\n      \"namespace\": \"default\",\\\\n      \"status\": \"Running\",\\\\n      \"createdAt\": \"2025-02-06T16:02:20.000Z\"\\\\n    },\\\\n    {\\\\n      \"name\": \"reviews-v3-bb6b8ddc7-qz7cj\",\\\\n      \"namespace\": \"default\",\\\\n      \"status\": \"Running\",\\\\n      \"createdAt\": \"2025-02-06T16:02:21.000Z\"\\\\n    }\\\\n  ]\\\\n}\\')]', call_id='call_HJsLrO8AcrBlu9gZpDwoOW9d')]\n",
      "---------- k8s_agent ----------\n",
      "[TextContent(type='text', text='{\\n  \"pods\": [\\n    {\\n      \"name\": \"details-v1-54ffdd5947-686pc\",\\n      \"namespace\": \"default\",\\n      \"status\": \"Running\",\\n      \"createdAt\": \"2025-02-06T16:02:20.000Z\"\\n    },\\n    {\\n      \"name\": \"productpage-v1-d49bb79b4-j5s87\",\\n      \"namespace\": \"default\",\\n      \"status\": \"Running\",\\n      \"createdAt\": \"2025-02-06T16:02:21.000Z\"\\n    },\\n    {\\n      \"name\": \"ratings-v1-856f65bcff-w99lb\",\\n      \"namespace\": \"default\",\\n      \"status\": \"Running\",\\n      \"createdAt\": \"2025-02-06T16:02:20.000Z\"\\n    },\\n    {\\n      \"name\": \"reviews-v1-848b8749df-67ftm\",\\n      \"namespace\": \"default\",\\n      \"status\": \"Running\",\\n      \"createdAt\": \"2025-02-06T16:02:20.000Z\"\\n    },\\n    {\\n      \"name\": \"reviews-v2-5fdf9886c7-5tscl\",\\n      \"namespace\": \"default\",\\n      \"status\": \"Running\",\\n      \"createdAt\": \"2025-02-06T16:02:20.000Z\"\\n    },\\n    {\\n      \"name\": \"reviews-v3-bb6b8ddc7-qz7cj\",\\n      \"namespace\": \"default\",\\n      \"status\": \"Running\",\\n      \"createdAt\": \"2025-02-06T16:02:21.000Z\"\\n    }\\n  ]\\n}')]\n"
     ]
    },
    {
     "data": {
      "text/plain": [
       "TaskResult(messages=[TextMessage(source='user', models_usage=None, content='List all pods in the default namespace', type='TextMessage'), ToolCallRequestEvent(source='k8s_agent', models_usage=RequestUsage(prompt_tokens=376, completion_tokens=12), content=[FunctionCall(id='call_HJsLrO8AcrBlu9gZpDwoOW9d', arguments='{}', name='list_pods')], type='ToolCallRequestEvent'), ToolCallExecutionEvent(source='k8s_agent', models_usage=None, content=[FunctionExecutionResult(content='[TextContent(type=\\'text\\', text=\\'{\\\\n  \"pods\": [\\\\n    {\\\\n      \"name\": \"details-v1-54ffdd5947-686pc\",\\\\n      \"namespace\": \"default\",\\\\n      \"status\": \"Running\",\\\\n      \"createdAt\": \"2025-02-06T16:02:20.000Z\"\\\\n    },\\\\n    {\\\\n      \"name\": \"productpage-v1-d49bb79b4-j5s87\",\\\\n      \"namespace\": \"default\",\\\\n      \"status\": \"Running\",\\\\n      \"createdAt\": \"2025-02-06T16:02:21.000Z\"\\\\n    },\\\\n    {\\\\n      \"name\": \"ratings-v1-856f65bcff-w99lb\",\\\\n      \"namespace\": \"default\",\\\\n      \"status\": \"Running\",\\\\n      \"createdAt\": \"2025-02-06T16:02:20.000Z\"\\\\n    },\\\\n    {\\\\n      \"name\": \"reviews-v1-848b8749df-67ftm\",\\\\n      \"namespace\": \"default\",\\\\n      \"status\": \"Running\",\\\\n      \"createdAt\": \"2025-02-06T16:02:20.000Z\"\\\\n    },\\\\n    {\\\\n      \"name\": \"reviews-v2-5fdf9886c7-5tscl\",\\\\n      \"namespace\": \"default\",\\\\n      \"status\": \"Running\",\\\\n      \"createdAt\": \"2025-02-06T16:02:20.000Z\"\\\\n    },\\\\n    {\\\\n      \"name\": \"reviews-v3-bb6b8ddc7-qz7cj\",\\\\n      \"namespace\": \"default\",\\\\n      \"status\": \"Running\",\\\\n      \"createdAt\": \"2025-02-06T16:02:21.000Z\"\\\\n    }\\\\n  ]\\\\n}\\')]', call_id='call_HJsLrO8AcrBlu9gZpDwoOW9d')], type='ToolCallExecutionEvent'), ToolCallSummaryMessage(source='k8s_agent', models_usage=None, content='[TextContent(type=\\'text\\', text=\\'{\\\\n  \"pods\": [\\\\n    {\\\\n      \"name\": \"details-v1-54ffdd5947-686pc\",\\\\n      \"namespace\": \"default\",\\\\n      \"status\": \"Running\",\\\\n      \"createdAt\": \"2025-02-06T16:02:20.000Z\"\\\\n    },\\\\n    {\\\\n      \"name\": \"productpage-v1-d49bb79b4-j5s87\",\\\\n      \"namespace\": \"default\",\\\\n      \"status\": \"Running\",\\\\n      \"createdAt\": \"2025-02-06T16:02:21.000Z\"\\\\n    },\\\\n    {\\\\n      \"name\": \"ratings-v1-856f65bcff-w99lb\",\\\\n      \"namespace\": \"default\",\\\\n      \"status\": \"Running\",\\\\n      \"createdAt\": \"2025-02-06T16:02:20.000Z\"\\\\n    },\\\\n    {\\\\n      \"name\": \"reviews-v1-848b8749df-67ftm\",\\\\n      \"namespace\": \"default\",\\\\n      \"status\": \"Running\",\\\\n      \"createdAt\": \"2025-02-06T16:02:20.000Z\"\\\\n    },\\\\n    {\\\\n      \"name\": \"reviews-v2-5fdf9886c7-5tscl\",\\\\n      \"namespace\": \"default\",\\\\n      \"status\": \"Running\",\\\\n      \"createdAt\": \"2025-02-06T16:02:20.000Z\"\\\\n    },\\\\n    {\\\\n      \"name\": \"reviews-v3-bb6b8ddc7-qz7cj\",\\\\n      \"namespace\": \"default\",\\\\n      \"status\": \"Running\",\\\\n      \"createdAt\": \"2025-02-06T16:02:21.000Z\"\\\\n    }\\\\n  ]\\\\n}\\')]', type='ToolCallSummaryMessage')], stop_reason=None)"
      ]
     },
     "execution_count": 6,
     "metadata": {},
     "output_type": "execute_result"
    }
   ],
   "source": [
    "from autogen_agentchat.agents import AssistantAgent\n",
    "from autogen_agentchat.ui import Console\n",
    "from autogen_ext.models.openai import OpenAIChatCompletionClient\n",
    "from autogen_ext.tools.mcp import StdioServerParams, mcp_server_tools\n",
    "\n",
    "from kagent.tools.istio import ProxyConfig\n",
    "from kagent.tools.k8s import GetPods, GetServices\n",
    "\n",
    "model_client = OpenAIChatCompletionClient(\n",
    "    model=\"gpt-4o\",\n",
    ")\n",
    "\n",
    "params = StdioServerParams(\n",
    "    command=\"npx\",\n",
    "    args=[\"mcp-server-kubernetes\"],\n",
    ")\n",
    "\n",
    "tools = await mcp_server_tools(params)\n",
    "k8s_agent = AssistantAgent(\n",
    "    \"k8s_agent\",\n",
    "    description=\"An agent for k8s operations\",\n",
    "    tools=tools,\n",
    "    model_client=model_client,\n",
    "    system_message=\"\"\"\n",
    "  You are a k8s agent. You know how to interact with the Kubernetes API.\n",
    "\n",
    "  Always prefer wide output format.\n",
    "\n",
    "  If you don't have any explicit tasks left to complete, return TERMINATE.\n",
    "  \"\"\",\n",
    ")\n",
    "\n",
    "\n",
    "await Console(k8s_agent.run_stream(task=\"List all pods in the default namespace\"))"
   ]
  }
 ],
 "metadata": {
  "kernelspec": {
   "display_name": ".venv",
   "language": "python",
   "name": "python3"
  },
  "language_info": {
   "codemirror_mode": {
    "name": "ipython",
    "version": 3
   },
   "file_extension": ".py",
   "mimetype": "text/x-python",
   "name": "python",
   "nbconvert_exporter": "python",
   "pygments_lexer": "ipython3",
   "version": "3.12.2"
  }
 },
 "nbformat": 4,
 "nbformat_minor": 2
}
